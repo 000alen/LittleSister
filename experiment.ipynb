{
 "metadata": {
  "language_info": {
   "codemirror_mode": {
    "name": "ipython",
    "version": 3
   },
   "file_extension": ".py",
   "mimetype": "text/x-python",
   "name": "python",
   "nbconvert_exporter": "python",
   "pygments_lexer": "ipython3",
   "version": "3.9.2"
  },
  "orig_nbformat": 2,
  "kernelspec": {
   "name": "python392jvsc74a57bd0a6998462f6ded608d092aa543d45656b83249658fd3f874a85d4e2308b5f8713",
   "display_name": "Python 3.9.2 64-bit"
  }
 },
 "nbformat": 4,
 "nbformat_minor": 2,
 "cells": [
  {
   "cell_type": "code",
   "execution_count": 24,
   "metadata": {},
   "outputs": [],
   "source": [
    "import os\n",
    "import pathlib\n",
    "import re\n",
    "import json"
   ]
  },
  {
   "cell_type": "code",
   "execution_count": 34,
   "metadata": {},
   "outputs": [],
   "source": [
    "geojson_path = pathlib.Path(\"./geojson/\")\n",
    "files_names = os.listdir(\"geojson\")\n",
    "\n",
    "communes = json.load(open(\"./database/communes.json\", encoding=\"utf-8\"))"
   ]
  },
  {
   "cell_type": "code",
   "execution_count": 35,
   "metadata": {},
   "outputs": [],
   "source": [
    "replacements = {\n",
    "    \"NUNOA\": \"ÑUÑOA\",\n",
    "    \"PENAFLOR\": \"PEÑAFLOR\",\n",
    "    \"PENALOLEN\": \"PEÑALOLEN\"\n",
    "}"
   ]
  },
  {
   "cell_type": "code",
   "execution_count": 38,
   "metadata": {},
   "outputs": [],
   "source": [
    "def get_identifier(name):\n",
    "    for identifier, _name in communes.items():\n",
    "        if _name == name:\n",
    "            return identifier"
   ]
  },
  {
   "cell_type": "code",
   "execution_count": 40,
   "metadata": {},
   "outputs": [],
   "source": [
    "pattern = r\"([a-z]+)(\\_([a-z]+))?(\\_([a-z]+))?(\\_([a-z]+))?\\.geojson?\"\n",
    "\n",
    "for file_name in files_names:\n",
    "    match = re.match(pattern, file_name)\n",
    "    groups = [_.upper() for _ in match.groups() if _ is not None and _[0] != \"_\"]\n",
    "    groups = [replacements[_] if _ in replacements else _ for _ in groups]\n",
    "    name = \" \".join(groups)\n",
    "    identifier = get_identifier(name)\n",
    "    os.rename(geojson_path / file_name, geojson_path / f\"{identifier}.geojson\")"
   ]
  },
  {
   "cell_type": "code",
   "execution_count": null,
   "metadata": {},
   "outputs": [],
   "source": []
  }
 ]
}