{
 "metadata": {
  "language_info": {
   "codemirror_mode": {
    "name": "ipython",
    "version": 3
   },
   "file_extension": ".py",
   "mimetype": "text/x-python",
   "name": "python",
   "nbconvert_exporter": "python",
   "pygments_lexer": "ipython3",
   "version": "3.9.2"
  },
  "orig_nbformat": 2,
  "kernelspec": {
   "name": "python392jvsc74a57bd0a6998462f6ded608d092aa543d45656b83249658fd3f874a85d4e2308b5f8713",
   "display_name": "Python 3.9.2 64-bit"
  }
 },
 "nbformat": 4,
 "nbformat_minor": 2,
 "cells": [
  {
   "cell_type": "code",
   "execution_count": 16,
   "metadata": {},
   "outputs": [],
   "source": [
    "from pandas import read_csv\n",
    "from csv import reader, writer\n",
    "from math import pi, cos, sin, atan2, sqrt\n",
    "from pathlib import Path\n",
    "from json import load"
   ]
  },
  {
   "cell_type": "code",
   "execution_count": 17,
   "metadata": {},
   "outputs": [],
   "source": [
    "R = 6371e3\n",
    "distance_threshold = 20_000\n",
    "\n",
    "\n",
    "def distance(lat_1, lon_1, lat_2, lon_2):\n",
    "    phi_1 = lat_1 * pi / 180\n",
    "    phi_2 = lat_2 * pi / 180\n",
    "\n",
    "    delta_phi = (lat_2 - lat_1) * pi / 180\n",
    "    delta_lambda = (lon_2 - lon_1) * pi / 180\n",
    "\n",
    "    a = sin(delta_phi / 2) * sin(delta_phi / 2) + cos(phi_1) * \\\n",
    "        cos(phi_2) * sin(delta_lambda / 2) * sin(delta_lambda / 2)\n",
    "    c = 2 * atan2(sqrt(a), sqrt(1 - a))\n",
    "\n",
    "    return R * c  # in meters"
   ]
  },
  {
   "cell_type": "code",
   "execution_count": 18,
   "metadata": {},
   "outputs": [],
   "source": [
    "database_path = Path(\"./database/\")\n",
    "communes_path = database_path / \"communes.json\"\n",
    "communes_location_path = database_path / \"communes_location.json\"\n",
    "minimal_geo_voters_path = database_path / \"minimal_geo_voters/\"\n",
    "minimal_geo_voters_json_path = minimal_geo_voters_path / \"minimal_geo_voters.json\"\n",
    "minimal_geo_voters_threshold_path = database_path / \"minimal_geo_voters_threshold/\"\n",
    "\n",
    "minimal_geo_voters_header = [\n",
    "    \"latitude\",\n",
    "    \"longitude\",\n",
    "    \"Circunscripcion\",\n",
    "    \"Mesa\"\n",
    "]\n",
    "\n",
    "minimal_geo_voters_json = load(open(minimal_geo_voters_json_path, encoding=\"utf-8\"))\n",
    "communes_location = load(open(communes_location_path, encoding=\"utf-8\"))"
   ]
  },
  {
   "cell_type": "code",
   "execution_count": 19,
   "metadata": {},
   "outputs": [],
   "source": [
    "for commune_identifier, file_name in minimal_geo_voters_json.items():\n",
    "    file_reader = reader(open(minimal_geo_voters_path / file_name))\n",
    "    file_writer = writer(open(minimal_geo_voters_threshold_path / file_name, \"w\", newline=\"\"))\n",
    "\n",
    "    commune_latitude, commune_longitude = communes_location[commune_identifier]\n",
    "\n",
    "    for i, (latitude, longitude, *_) in enumerate(file_reader):\n",
    "        if i == 0:\n",
    "            file_writer.writerow(minimal_geo_voters_header)\n",
    "            continue\n",
    "\n",
    "        d = distance(float(latitude), float(longitude), float(commune_latitude), float(commune_longitude))\n",
    "        if d < distance_threshold:\n",
    "            file_writer.writerow([latitude, longitude, *_])"
   ]
  },
  {
   "cell_type": "code",
   "execution_count": null,
   "metadata": {},
   "outputs": [],
   "source": []
  }
 ]
}